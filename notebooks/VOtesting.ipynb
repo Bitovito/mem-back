{
 "cells": [
  {
   "cell_type": "code",
   "execution_count": 1,
   "metadata": {},
   "outputs": [],
   "source": [
    "from langchain_core.tools import tool\n",
    "import pyvo as vo\n",
    "from pyvo import registry\n",
    "from pyvo.registry.regtap import RegistryResults\n",
    "from pydantic import BaseModel, Field\n",
    "from typing import List, Optional, Tuple\n",
    "from astropy.coordinates import SkyCoord\n",
    "from astropy.units import Quantity\n",
    "import pprint"
   ]
  },
  {
   "cell_type": "markdown",
   "metadata": {},
   "source": [
    "### Registry"
   ]
  },
  {
   "cell_type": "code",
   "execution_count": 2,
   "metadata": {},
   "outputs": [
    {
     "data": {
      "text/html": [
       "<div><i>Table length=321</i>\n",
       "<table id=\"table1255486533984\" class=\"table-striped table-bordered table-condensed\">\n",
       "<thead><tr><th>ivoid</th><th>res_type</th><th>short_name</th><th>res_title</th><th>content_level</th><th>res_description</th><th>reference_url</th><th>creator_seq</th><th>created</th><th>updated</th><th>rights</th><th>content_type</th><th>source_format</th><th>source_value</th><th>region_of_regard</th><th>waveband</th><th>access_urls</th><th>standard_ids</th><th>intf_types</th><th>intf_roles</th></tr></thead>\n",
       "<thead><tr><th></th><th></th><th></th><th></th><th></th><th></th><th></th><th></th><th></th><th></th><th></th><th></th><th></th><th></th><th>deg</th><th></th><th></th><th></th><th></th><th></th></tr></thead>\n",
       "<thead><tr><th>object</th><th>object</th><th>object</th><th>object</th><th>object</th><th>object</th><th>object</th><th>object</th><th>object</th><th>object</th><th>object</th><th>object</th><th>object</th><th>object</th><th>float32</th><th>object</th><th>object</th><th>object</th><th>object</th><th>object</th></tr></thead>\n",
       "<tr><td>ivo://3crsnapshots/sia</td><td>vs:catalogservice</td><td>3CRSnap.sia</td><td>3CRSnapshots Simple Image Access Service</td><td></td><td>Simple Image Access Service for 3CRSnapshot resources managed at the Observatoire de Strasbourg</td><td>http://cdsweb.u-strasbg.fr/~allen/3CRSnapshots</td><td>Mark Allen</td><td>2010-05-07T15:26:17</td><td>2023-07-20T09:37:07.037000</td><td></td><td></td><td></td><td></td><td>--</td><td></td><td>https://xcatdb.unistra.fr/3CSnapshots:::py VO sep:::https://xcatdb.unistra.fr/3CSnapshots/siaservice?collection=%255BMAData%255D&amp;</td><td>ivo://ivoa.net/std/sia:::py VO sep:::ivo://ivoa.net/std/sia</td><td>vr:webbrowser:::py VO sep:::vs:paramhttp</td><td>std:::py VO sep:::std</td></tr>\n",
       "<tr><td>ivo://archive.stsci.edu/borg</td><td>vs:catalogservice</td><td>BoRG</td><td>Brightest of Reionizing Galaxies (BoRG)</td><td>research</td><td>The Brightest of Reionizing Galaxies (BoRG) observations were first obtained in HST Cycle 17 in program GO 11700 (PI: Michele Trenti). BoRG is an ongoing pure-parallel program that obtains WFC3 imaging in four filters (F606W, F098M, F125W, F160W) on random sightlines at high Galactic latitudes (|b| &gt; 30 degrees). BoRG also assimilates data from the similar Hubble Infrared Pure Parallel Imaging Extragalactic Survey (HIPPIES) pure-parallel program (GO 11702; PI: Yan). Data from the HIPPIES program uses the F600LP filter instead of F606W.</td><td>http://archive.stsci.edu/prepds/borg/</td><td>Michael Trenti</td><td>2012-04-30T20:49:40</td><td>2020-07-22T22:24:07</td><td></td><td>archive</td><td></td><td></td><td>--</td><td>infrared#optical</td><td>http://archive.stsci.edu/siap/search.php?id=borg&amp;</td><td>ivo://ivoa.net/std/sia</td><td>vs:paramhttp</td><td>std</td></tr>\n",
       "<tr><td>ivo://archive.stsci.edu/ghosts</td><td>vs:catalogservice</td><td>GHOSTS</td><td>Galaxy Halos, Outer disks, Substructure, Thick disks and Star clusters (GHOSTS)</td><td>research</td><td>The GHOSTS survey is the largest study to date of the resolved stellar populations in the outskirts of disk galaxies. The sample consists of 14 disk galaxies within 17 Mpc, whose outer disks and halos are imaged with the Hubble Space Telescope Advanced Camera for Surveys (ACS).</td><td>http://archive.stsci.edu/prepds/ghosts</td><td>PI: Roelof De Jong</td><td>2012-04-30T20:48:59</td><td>2020-07-22T21:59:56</td><td></td><td>archive</td><td></td><td></td><td>--</td><td>optical</td><td>http://archive.stsci.edu/siap/search.php?id=ghosts&amp;</td><td>ivo://ivoa.net/std/sia</td><td>vs:paramhttp</td><td>std</td></tr>\n",
       "<tr><td>ivo://archive.stsci.edu/sia/galex</td><td>vs:catalogservice</td><td>GALEX</td><td>Galaxy Evolution Explorer (GALEX)</td><td>research</td><td>The Galaxy Evolution Explorer (GALEX), a NASA Small Explorer mission, is performing the first all-sky, deep imaging and spectroscopic ultraviolet surveys in space. The prime goal of GALEX is to study star formation in galaxies and its evolution with time.</td><td>http://galex.stsci.edu</td><td>Chris Martin</td><td>2017-06-05T18:22:33</td><td>2023-06-30T15:01:19</td><td></td><td>archive</td><td></td><td></td><td>--</td><td>uv</td><td>https://mast.stsci.edu/portal_vo/Mashup/VoQuery.asmx/SiaV1?MISSION=GALEX&amp;</td><td>ivo://ivoa.net/std/sia</td><td>vs:paramhttp</td><td>std</td></tr>\n",
       "<tr><td>ivo://archive.stsci.edu/siap/hla</td><td>vs:catalogservice</td><td>HLA</td><td>Hubble Legacy Archive</td><td>research</td><td>The Hubble Space Telecope Legacy Archive (HLA) was developed at the Space Telescope Science Institute to optimize the science return from HST instruments.  This resource is an image service which accesses all HLA observation data.  The calibrated data is fully online with several forms of access including footprint visualization,  composite images, extracted spectra and source lists.</td><td>http://hla.stsci.edu</td><td>Rick White</td><td>2011-10-12T15:30:21</td><td>2020-07-21T20:46:18</td><td></td><td>archive</td><td></td><td></td><td>--</td><td>optical#infrared#uv</td><td>http://hla.stsci.edu/cgi-bin/hlaSIAP.cgi?imagetype=best&amp;inst=ACS,ACSGrism,WFC3,WFPC2,NICMOS,NICGRISM,COS,STIS,FOS,GHRS&amp;proprietary=false&amp;</td><td>ivo://ivoa.net/std/sia</td><td>vs:paramhttp</td><td>std</td></tr>\n",
       "<tr><td>ivo://arvo/siap</td><td>vs:catalogservice</td><td>ArVO SIAP</td><td>Armenian Virtual Observatory SIAP</td><td></td><td>Armenian Virtual Observatory SIAP API service gives possibility to make a SIAP http request to ArVO astronomical database, which contains the data gained by Byurakan Observatory. The main part of ArVO astronomical data is the First Byurakan Survey (FBS), which is the largest and the first systematic objective prism survey of the extragalactic sky. It covers 17,000 sq.deg. in the Northern sky together with a high galactic latitudes region in the Southern sky.</td><td>http://arvo.sci.am/api/search.php</td><td>Aram Knyazyan</td><td>2015-12-17T18:23:13</td><td>2019-03-13T16:46:42.306000</td><td></td><td></td><td></td><td></td><td>--</td><td></td><td>http://arvo.sci.am/api/search.php?</td><td>ivo://ivoa.net/std/sia</td><td>vs:paramhttp</td><td>std</td></tr>\n",
       "<tr><td>ivo://astron.nl/apertif_dr_bootes/q/cutout</td><td>vs:catalogservice</td><td>DR Bootes</td><td>Apertif DR Bootes - Mosaic</td><td>research</td><td>Apertif is a phased-array feed system for the Westerbork Synthesis\\nRadio Telescope (WSRT), providing forty instantaneous beams over 300\\nMHz of bandwidth. This data release includes the catalogue and image\\nobserved by Apertif covering 26.5 square degree region in the Boötes\\nconstellation at 1.4 GHz. The image is a mosaic of 187 Apertif images\\nfrom 8 different survey observations performed between April 2019 and\\nNovember 2021. It has an angular resolution of 27×11.5 arcseconds and\\na median background noise of 40 μJy/beam. From this mosaic, 8994\\nsources were extracted and the catalogue is complete down to the 0.3\\nmJy level. This service queries the mosaic image of the Boötes field.</td><td>https://vo.astron.nl/apertif_dr_bootes/q/cutout/info</td><td>Apertif Team</td><td>2023-05-31T12:00:00</td><td>2024-08-01T09:31:58</td><td>Licensed under CC-BY</td><td>survey images and catalogs</td><td>bibcode</td><td>2023A&amp;A...676A..37K</td><td>--</td><td>radio</td><td>https://vo.astron.nl/apertif_dr_bootes/q/cutout/siap.xml?</td><td>ivo://ivoa.net/std/sia</td><td>vs:paramhttp</td><td>std</td></tr>\n",
       "<tr><td>ivo://astron.nl/hetdex/lotss-dr1-img/cutout</td><td>vs:catalogservice</td><td>LoTSS-DR1 Cutout</td><td>LoTSS-DR1 Image Cutout Service</td><td></td><td>This service provides cutouts from the images of the LOFAR Two-metre\\nSky Survey First Data Release (LoTSS-DR1). This data release contains\\nimages and catalogs that characterise the low-frequency radio emission\\nin the region of the HETDEX Spring Field (right ascension 10h45m00s\\nto15h30m00s and declination 45◦00′00′′ to 57◦00′00′′). A total of\\n325,694 radio sources are detected in a region covering 424 square\\ndegrees. The maps have a median sensitivity of 71 uJy/beam and a\\nresolution of 6 arcsec. Optical counterparts for 71% of the radio\\nsources have been identified and where possible photometric redshifts\\nfor these sources have been derived.</td><td>https://vo.astron.nl/hetdex/lotss-dr1-img/cutout/info</td><td>Shimwell, T.</td><td>2016-05-30T00:00:00</td><td>2022-08-11T12:34:10</td><td></td><td></td><td></td><td></td><td>--</td><td>radio</td><td>https://vo.astron.nl/hetdex/lotss-dr1-img/cutout/siap.xml?</td><td>ivo://ivoa.net/std/sia</td><td>vs:paramhttp</td><td>std</td></tr>\n",
       "<tr><td>ivo://astron.nl/hetdex/lotss-dr1-img/imgs</td><td>vs:catalogservice</td><td>LoTSS-DR1 images</td><td>LoTSS-DR1 Image Archive</td><td></td><td>This service queries the catalog of images from the LOFAR Two-metre\\nSky Survey First Data Release (LoTSS-DR1). This data release contains\\nimages and catalogs that characterise the low-frequency radio emission\\nin the region of the HETDEX Spring Field (right ascension 10h45m00s\\nto15h30m00s and declination 45◦00′00′′ to 57◦00′00′′). A total of\\n325,694 radio sources are detected in a region covering 424 square\\ndegrees. The maps have a median sensitivity of 71 uJy/beam and a\\nresolution of 6 arcsec. Optical counterparts for 71% of the radio\\nsources have been identified and where possible photometric redshifts\\nfor these sources have been derived.</td><td>https://vo.astron.nl/hetdex/lotss-dr1-img/imgs/info</td><td>Shimwell, T.</td><td>2016-05-30T00:00:00</td><td>2022-08-11T12:34:10</td><td></td><td></td><td></td><td></td><td>--</td><td>radio</td><td>https://vo.astron.nl/hetdex/lotss-dr1-img/imgs/siap.xml?</td><td>ivo://ivoa.net/std/sia</td><td>vs:paramhttp</td><td>std</td></tr>\n",
       "<tr><td>...</td><td>...</td><td>...</td><td>...</td><td>...</td><td>...</td><td>...</td><td>...</td><td>...</td><td>...</td><td>...</td><td>...</td><td>...</td><td>...</td><td>...</td><td>...</td><td>...</td><td>...</td><td>...</td><td>...</td></tr>\n",
       "<tr><td>ivo://wfau.roe.ac.uk/ukidssdr3-siap</td><td>vs:catalogservice</td><td>UKIDSS DR3 SIAP</td><td>UKIDSS DR3 SIAP Service</td><td>research</td><td>Simple image access to UKIDSS data release 3 images.</td><td>http://wfaudata.roe.ac.uk/ukidssdr3-siap</td><td>WFAU, Institute for Astronomy, University of Edinburgh</td><td>2009-07-29T14:26:10</td><td>2019-07-09T14:42:18</td><td></td><td>survey</td><td></td><td></td><td>--</td><td>infrared</td><td>http://wfaudata.roe.ac.uk/ukidssdr3-siap/?</td><td>ivo://ivoa.net/std/sia</td><td>vs:paramhttp</td><td>std</td></tr>\n",
       "<tr><td>ivo://wfau.roe.ac.uk/ukidssdr4-siap</td><td>vs:catalogservice</td><td>UKIDSS DR4 SIAP</td><td>UKIDSS DR4 SIAP Service</td><td>research</td><td>Simple image access to UKIDSS data release 4 images.</td><td>http://wfaudata.roe.ac.uk/ukidssdr4-siap</td><td>WFAU, Institute for Astronomy, University of Edinburgh</td><td>2009-07-29T14:26:10</td><td>2019-07-09T14:42:34</td><td></td><td>survey</td><td></td><td></td><td>--</td><td>infrared</td><td>http://wfaudata.roe.ac.uk/ukidssdr4-siap/?</td><td>ivo://ivoa.net/std/sia</td><td>vs:paramhttp</td><td>std</td></tr>\n",
       "<tr><td>ivo://wfau.roe.ac.uk/ukidssdr5-siap</td><td>vs:catalogservice</td><td>UKIDSS DR5 SIAP</td><td>UKIDSS DR5 SIAP Service</td><td>research</td><td>Simple image access to UKIDSS data release 5 images.</td><td>http://wfaudata.roe.ac.uk/ukidssdr5-siap</td><td>WFAU, Institute for Astronomy, University of Edinburgh</td><td>2009-07-29T14:26:10</td><td>2019-07-09T14:42:50</td><td></td><td>survey</td><td></td><td></td><td>--</td><td>infrared</td><td>http://wfaudata.roe.ac.uk/ukidssdr5-siap/?</td><td>ivo://ivoa.net/std/sia</td><td>vs:paramhttp</td><td>std</td></tr>\n",
       "<tr><td>ivo://wfau.roe.ac.uk/ukidssdr6-siap</td><td>vs:catalogservice</td><td>UKIDSS DR6 SIAP</td><td>UKIDSS DR6 SIAP Service</td><td>research</td><td>Simple image access to UKIDSS data release 6 images.</td><td>http://wfaudata.roe.ac.uk/ukidssdr6-siap</td><td>WFAU, Institute for Astronomy, University of Edinburgh</td><td>2011-10-26T12:02:10</td><td>2019-07-09T14:43:08</td><td></td><td>survey</td><td></td><td></td><td>--</td><td>infrared</td><td>http://wfaudata.roe.ac.uk/ukidssdr6-siap/?</td><td>ivo://ivoa.net/std/sia</td><td>vs:paramhttp</td><td>std</td></tr>\n",
       "<tr><td>ivo://wfau.roe.ac.uk/ukidssdr7-siap</td><td>vs:catalogservice</td><td>UKIDSS DR7 SIAP</td><td>UKIDSS DR7 SIAP Service</td><td>research</td><td>Simple image access to UKIDSS data release 7 images.</td><td>http://wfaudata.roe.ac.uk/ukidssdr7-siap</td><td>WFAU, Institute for Astronomy, University of Edinburgh</td><td>2011-10-26T12:02:10</td><td>2019-07-09T14:43:29</td><td></td><td>survey</td><td></td><td></td><td>--</td><td>infrared</td><td>http://wfaudata.roe.ac.uk/ukidssdr7-siap/?</td><td>ivo://ivoa.net/std/sia</td><td>vs:paramhttp</td><td>std</td></tr>\n",
       "<tr><td>ivo://wfau.roe.ac.uk/ukidssdr8-siap</td><td>vs:catalogservice</td><td>UKIDSS DR8 SIAP</td><td>UKIDSS DR8 SIAP Service</td><td>research</td><td>Simple image access to UKIDSS data release 9 images for the LAS, GCS, DXS, and UDS surveys. GPS images are from DR7.</td><td>http://wfaudata.roe.ac.uk/ukidssdr8-siap</td><td>WFAU, Institute for Astronomy, University of Edinburgh</td><td>2011-10-26T12:02:10</td><td>2019-07-09T14:44:01</td><td></td><td>survey</td><td></td><td></td><td>--</td><td>infrared</td><td>http://wfaudata.roe.ac.uk/ukidssdr8-siap/?</td><td>ivo://ivoa.net/std/sia</td><td>vs:paramhttp</td><td>std</td></tr>\n",
       "<tr><td>ivo://wfau.roe.ac.uk/ukidssdr9-siap</td><td>vs:catalogservice</td><td>UKIDSS DR9 SIAP</td><td>UKIDSS DR9 SIAP Service</td><td>research</td><td>Simple image access to UKIDSS data release 9 images for the LAS, GCS, DXS, and UDS surveys.</td><td>http://wfaudata.roe.ac.uk/ukidssdr9-siap</td><td>WFAU, Institute for Astronomy, University of Edinburgh</td><td>2011-10-26T12:02:10</td><td>2019-07-09T14:44:16</td><td></td><td>survey</td><td></td><td></td><td>--</td><td>infrared</td><td>http://wfaudata.roe.ac.uk/ukidssdr9-siap/?</td><td>ivo://ivoa.net/std/sia</td><td>vs:paramhttp</td><td>std</td></tr>\n",
       "<tr><td>ivo://wfau.roe.ac.uk/vhsdr1-siap</td><td>vs:catalogservice</td><td>VHS DR1 SIAP</td><td>VHS DR1 SIAP Service</td><td>research</td><td>Simple image access to VISTA Hemisphere Survey data release 1 images.</td><td>http://wfaudata.roe.ac.uk/vhsdr1-siap</td><td>WFAU, Institute for Astronomy, University of Edinburgh</td><td>2011-10-26T12:02:10</td><td>2019-08-14T10:49:59</td><td></td><td>survey</td><td></td><td></td><td>--</td><td>infrared</td><td>http://wfaudata.roe.ac.uk/vhsdr1-siap/?</td><td>ivo://ivoa.net/std/sia</td><td>vs:paramhttp</td><td>std</td></tr>\n",
       "<tr><td>ivo://wfau.roe.ac.uk/vista-siap</td><td>vs:catalogservice</td><td>VISTA SIAP</td><td>VISTA SIAP Service</td><td>research</td><td>Simple image access to all images from the latest releases of the VISTA public surveys (VHS, VMC, VVV, VIDEO, VIKING).</td><td>http://wfaudata.roe.ac.uk/vista-siap</td><td>WFAU, Institute for Astronomy, University of Edinburgh</td><td>2011-10-26T12:02:10</td><td>2019-07-09T15:59:27</td><td></td><td>survey</td><td></td><td></td><td>--</td><td>infrared</td><td>http://wfaudata.roe.ac.uk/vista-siap/?</td><td>ivo://ivoa.net/std/sia</td><td>vs:paramhttp</td><td>std</td></tr>\n",
       "</table></div>"
      ],
      "text/plain": [
       "<Table length=321>\n",
       "                   ivoid                    ...       intf_roles     \n",
       "                                            ...                      \n",
       "                   object                   ...         object       \n",
       "------------------------------------------- ... ---------------------\n",
       "                     ivo://3crsnapshots/sia ... std:::py VO sep:::std\n",
       "               ivo://archive.stsci.edu/borg ...                   std\n",
       "             ivo://archive.stsci.edu/ghosts ...                   std\n",
       "          ivo://archive.stsci.edu/sia/galex ...                   std\n",
       "           ivo://archive.stsci.edu/siap/hla ...                   std\n",
       "                            ivo://arvo/siap ...                   std\n",
       " ivo://astron.nl/apertif_dr_bootes/q/cutout ...                   std\n",
       "ivo://astron.nl/hetdex/lotss-dr1-img/cutout ...                   std\n",
       "  ivo://astron.nl/hetdex/lotss-dr1-img/imgs ...                   std\n",
       "                                        ... ...                   ...\n",
       "        ivo://wfau.roe.ac.uk/ukidssdr3-siap ...                   std\n",
       "        ivo://wfau.roe.ac.uk/ukidssdr4-siap ...                   std\n",
       "        ivo://wfau.roe.ac.uk/ukidssdr5-siap ...                   std\n",
       "        ivo://wfau.roe.ac.uk/ukidssdr6-siap ...                   std\n",
       "        ivo://wfau.roe.ac.uk/ukidssdr7-siap ...                   std\n",
       "        ivo://wfau.roe.ac.uk/ukidssdr8-siap ...                   std\n",
       "        ivo://wfau.roe.ac.uk/ukidssdr9-siap ...                   std\n",
       "           ivo://wfau.roe.ac.uk/vhsdr1-siap ...                   std\n",
       "            ivo://wfau.roe.ac.uk/vista-siap ...                   std"
      ]
     },
     "execution_count": 2,
     "metadata": {},
     "output_type": "execute_result"
    }
   ],
   "source": [
    "resources = registry.search(servicetype='sia')\n",
    "resources.to_table() "
   ]
  },
  {
   "cell_type": "code",
   "execution_count": 4,
   "metadata": {},
   "outputs": [
    {
     "data": {
      "text/plain": [
       "[['sia'],\n",
       " ['sia'],\n",
       " ['sia'],\n",
       " ['sia'],\n",
       " ['sia'],\n",
       " ['sia'],\n",
       " ['sia'],\n",
       " ['sia'],\n",
       " ['sia'],\n",
       " ['sia'],\n",
       " ['sia'],\n",
       " ['sia'],\n",
       " ['sia'],\n",
       " ['sia'],\n",
       " ['sia'],\n",
       " ['sia'],\n",
       " ['sia'],\n",
       " ['sia'],\n",
       " ['sia'],\n",
       " ['sia'],\n",
       " ['sia'],\n",
       " ['sia'],\n",
       " ['sia'],\n",
       " ['sia'],\n",
       " ['sia'],\n",
       " ['sia'],\n",
       " ['sia'],\n",
       " ['sia'],\n",
       " ['sia'],\n",
       " ['sia'],\n",
       " ['sia'],\n",
       " ['sia'],\n",
       " ['sia'],\n",
       " ['sia'],\n",
       " ['sia'],\n",
       " ['sia'],\n",
       " ['sia'],\n",
       " ['sia'],\n",
       " ['sia'],\n",
       " ['sia'],\n",
       " ['sia'],\n",
       " ['sia'],\n",
       " ['sia'],\n",
       " ['sia'],\n",
       " ['sia'],\n",
       " ['sia'],\n",
       " ['sia'],\n",
       " ['sia'],\n",
       " ['sia'],\n",
       " ['sia'],\n",
       " ['sia'],\n",
       " ['sia'],\n",
       " ['sia'],\n",
       " ['sia'],\n",
       " ['sia'],\n",
       " ['sia'],\n",
       " ['sia'],\n",
       " ['sia'],\n",
       " ['sia'],\n",
       " ['sia'],\n",
       " ['sia'],\n",
       " ['sia'],\n",
       " ['sia'],\n",
       " ['sia'],\n",
       " ['sia'],\n",
       " ['sia'],\n",
       " ['sia'],\n",
       " ['sia'],\n",
       " ['sia'],\n",
       " ['sia'],\n",
       " ['sia'],\n",
       " ['sia'],\n",
       " ['sia'],\n",
       " ['sia'],\n",
       " ['sia'],\n",
       " ['sia'],\n",
       " ['sia'],\n",
       " ['sia'],\n",
       " ['sia'],\n",
       " ['sia'],\n",
       " ['sia'],\n",
       " ['sia'],\n",
       " ['sia'],\n",
       " ['sia'],\n",
       " ['sia'],\n",
       " ['sia'],\n",
       " ['sia'],\n",
       " ['sia'],\n",
       " ['sia'],\n",
       " ['sia'],\n",
       " ['sia'],\n",
       " ['sia'],\n",
       " ['sia'],\n",
       " ['sia'],\n",
       " ['sia'],\n",
       " ['sia'],\n",
       " ['sia'],\n",
       " ['sia'],\n",
       " ['sia'],\n",
       " ['sia'],\n",
       " ['sia'],\n",
       " ['sia'],\n",
       " ['sia'],\n",
       " ['sia'],\n",
       " ['sia'],\n",
       " ['sia'],\n",
       " ['sia'],\n",
       " ['sia'],\n",
       " ['sia'],\n",
       " ['sia'],\n",
       " ['sia'],\n",
       " ['sia'],\n",
       " ['sia'],\n",
       " ['sia'],\n",
       " ['sia'],\n",
       " ['sia'],\n",
       " ['sia'],\n",
       " ['sia'],\n",
       " ['sia'],\n",
       " ['sia'],\n",
       " ['sia'],\n",
       " ['sia'],\n",
       " ['sia'],\n",
       " ['sia'],\n",
       " ['sia'],\n",
       " ['sia'],\n",
       " ['sia'],\n",
       " ['sia'],\n",
       " ['sia'],\n",
       " ['sia'],\n",
       " ['sia'],\n",
       " ['sia'],\n",
       " ['sia'],\n",
       " ['sia'],\n",
       " ['sia'],\n",
       " ['sia'],\n",
       " ['sia'],\n",
       " ['sia'],\n",
       " ['sia'],\n",
       " ['sia'],\n",
       " ['sia'],\n",
       " ['sia'],\n",
       " ['sia'],\n",
       " ['sia'],\n",
       " ['sia'],\n",
       " ['sia'],\n",
       " ['sia'],\n",
       " ['sia'],\n",
       " ['sia'],\n",
       " ['sia'],\n",
       " ['sia'],\n",
       " ['sia'],\n",
       " ['sia'],\n",
       " ['sia'],\n",
       " ['sia'],\n",
       " ['sia'],\n",
       " ['sia'],\n",
       " ['sia'],\n",
       " ['sia'],\n",
       " ['sia'],\n",
       " ['sia'],\n",
       " ['sia'],\n",
       " ['sia'],\n",
       " ['sia'],\n",
       " ['sia'],\n",
       " ['sia'],\n",
       " ['sia'],\n",
       " ['sia'],\n",
       " ['sia'],\n",
       " ['sia'],\n",
       " ['sia'],\n",
       " ['sia'],\n",
       " ['sia'],\n",
       " ['sia'],\n",
       " ['sia'],\n",
       " ['sia'],\n",
       " ['sia'],\n",
       " ['sia'],\n",
       " ['sia'],\n",
       " ['sia'],\n",
       " ['sia'],\n",
       " ['sia'],\n",
       " ['sia'],\n",
       " ['sia'],\n",
       " ['sia'],\n",
       " ['sia'],\n",
       " ['sia'],\n",
       " ['sia'],\n",
       " ['sia'],\n",
       " ['sia'],\n",
       " ['sia'],\n",
       " ['sia'],\n",
       " ['sia'],\n",
       " ['sia'],\n",
       " ['sia'],\n",
       " ['sia'],\n",
       " ['sia'],\n",
       " ['sia'],\n",
       " ['sia'],\n",
       " ['sia'],\n",
       " ['sia'],\n",
       " ['sia'],\n",
       " ['sia'],\n",
       " ['sia'],\n",
       " ['sia'],\n",
       " ['sia'],\n",
       " ['sia'],\n",
       " ['sia'],\n",
       " ['sia'],\n",
       " ['sia'],\n",
       " ['sia'],\n",
       " ['sia'],\n",
       " ['sia'],\n",
       " ['sia'],\n",
       " ['sia'],\n",
       " ['sia'],\n",
       " ['sia'],\n",
       " ['sia'],\n",
       " ['sia'],\n",
       " ['sia'],\n",
       " ['sia'],\n",
       " ['sia'],\n",
       " ['sia'],\n",
       " ['sia'],\n",
       " ['sia'],\n",
       " ['sia'],\n",
       " ['sia'],\n",
       " ['sia'],\n",
       " ['sia'],\n",
       " ['sia'],\n",
       " ['sia'],\n",
       " ['sia'],\n",
       " ['sia'],\n",
       " ['sia'],\n",
       " ['sia'],\n",
       " ['sia'],\n",
       " ['sia'],\n",
       " ['sia'],\n",
       " ['sia'],\n",
       " ['sia'],\n",
       " ['sia'],\n",
       " ['sia'],\n",
       " ['sia'],\n",
       " ['sia'],\n",
       " ['sia'],\n",
       " ['sia'],\n",
       " ['sia'],\n",
       " ['sia'],\n",
       " ['sia'],\n",
       " ['sia'],\n",
       " ['sia'],\n",
       " ['sia'],\n",
       " ['sia'],\n",
       " ['sia'],\n",
       " ['sia'],\n",
       " ['sia'],\n",
       " ['sia'],\n",
       " ['sia'],\n",
       " ['sia'],\n",
       " ['sia'],\n",
       " ['sia'],\n",
       " ['sia'],\n",
       " ['sia'],\n",
       " ['sia'],\n",
       " ['sia'],\n",
       " ['sia'],\n",
       " ['sia'],\n",
       " ['sia'],\n",
       " ['sia'],\n",
       " ['sia'],\n",
       " ['sia'],\n",
       " ['sia'],\n",
       " ['sia'],\n",
       " ['sia'],\n",
       " ['sia'],\n",
       " ['sia'],\n",
       " ['sia'],\n",
       " ['sia'],\n",
       " ['sia'],\n",
       " ['sia'],\n",
       " ['sia'],\n",
       " ['sia'],\n",
       " ['sia'],\n",
       " ['sia'],\n",
       " ['sia'],\n",
       " ['sia'],\n",
       " ['sia'],\n",
       " ['sia'],\n",
       " ['sia'],\n",
       " ['sia'],\n",
       " ['sia'],\n",
       " ['sia'],\n",
       " ['sia'],\n",
       " ['sia'],\n",
       " ['sia'],\n",
       " ['sia'],\n",
       " ['sia'],\n",
       " ['sia'],\n",
       " ['sia'],\n",
       " ['sia'],\n",
       " ['sia'],\n",
       " ['sia'],\n",
       " ['sia'],\n",
       " ['sia'],\n",
       " ['sia'],\n",
       " ['sia'],\n",
       " ['sia'],\n",
       " ['sia'],\n",
       " ['sia'],\n",
       " ['sia'],\n",
       " ['sia'],\n",
       " ['sia'],\n",
       " ['sia'],\n",
       " ['sia'],\n",
       " ['sia'],\n",
       " ['sia'],\n",
       " ['sia'],\n",
       " ['sia'],\n",
       " ['sia'],\n",
       " ['sia'],\n",
       " ['sia']]"
      ]
     },
     "execution_count": 4,
     "metadata": {},
     "output_type": "execute_result"
    }
   ],
   "source": [
    "modes = []\n",
    "for i in range(0,len(resources)):\n",
    "  modes.append(list(resources.getrecord(i).access_modes()))\n",
    "modes"
   ]
  },
  {
   "cell_type": "code",
   "execution_count": 19,
   "metadata": {},
   "outputs": [],
   "source": [
    "pos = SkyCoord.from_name('Eta Carina')\n",
    "size = Quantity(0.5, unit=\"deg\")\n",
    "\n",
    "resources = registry.search(keywords=\"Neptune\",servicetype=\"sia\") # Todos los Resources que pueden ser accedidos por protocolo SIA1\n",
    "# service = resources.getrecord(2)\n",
    "# print(service.access_url)\n",
    "# records = service.search(pos=pos, size=size, format='graphics')\n",
    "# res = records.getrecord(0)\n",
    "# pprint.pp(res.acref)\n",
    "# pprint.pp(f\"{res.title}({res.format})({res.filesize}B)\")"
   ]
  },
  {
   "cell_type": "code",
   "execution_count": null,
   "metadata": {},
   "outputs": [],
   "source": [
    "class VoResource(BaseModel):\n",
    "   res_title: str\n",
    "   res_description: str\n",
    "   content_level: str\n",
    "   waveband: str\n",
    "   created: str\n",
    "   updated: str\n",
    "   access_urls: str\n",
    "\n",
    "table = resources.to_table()\n",
    "# print(**table[0])\n",
    "# for res in resrs:\n",
    "#   val = VoResource(**res)\n",
    "#   print(val)\n",
    "table"
   ]
  },
  {
   "cell_type": "code",
   "execution_count": null,
   "metadata": {},
   "outputs": [],
   "source": [
    "def func(**kwargs):\n",
    "  for key, value in kwargs.items():\n",
    "    print(\"%s == %s\" % (key, value))\n",
    "\n",
    "func(**table[0], another=\"one\")"
   ]
  },
  {
   "cell_type": "code",
   "execution_count": null,
   "metadata": {},
   "outputs": [],
   "source": [
    "words = 'white dwarves'\n",
    "service = None\n",
    "name = None\n",
    "args = {\"keywords\":\"white dwarves\", \"servicetype\":None, \"author\":None}\n",
    "resources = registry.get_RegTAP_query(**{k: v for k, v in args.items() if v is not None})\n",
    "pprint.pp(resources, indent=4)"
   ]
  },
  {
   "cell_type": "markdown",
   "metadata": {},
   "source": [
    "### SIAP"
   ]
  },
  {
   "cell_type": "code",
   "execution_count": null,
   "metadata": {},
   "outputs": [],
   "source": [
    "img_res = registry.search(servicetype=\"sia\")\n",
    "one_res = img_res.to_table()\n",
    "# for o in one_res[\"access_urls\"]:\n",
    "#   print(o)\n",
    "one_res"
   ]
  },
  {
   "cell_type": "code",
   "execution_count": null,
   "metadata": {},
   "outputs": [],
   "source": [
    "size = Quantity(0.5, unit=\"deg\")\n",
    "pos = SkyCoord.from_name('Eta Carina')\n",
    "count=0\n",
    "for ref in one_res[\"access_urls\"]:\n",
    "  try:\n",
    "    sia_service = vo.dal.SIAService(ref)\n",
    "    resource_res = sia_service.search(pos=pos, format=\"graphic\")\n",
    "    if len(resource_res) != 0:\n",
    "      for img in resource_res:\n",
    "        print( img.title, img.acref, img.format, img.filesize )\n",
    "    else:\n",
    "      count+=1\n",
    "      print(f\"N° fallos: {count}\")\n",
    "  except:\n",
    "    continue"
   ]
  },
  {
   "cell_type": "code",
   "execution_count": null,
   "metadata": {},
   "outputs": [],
   "source": [
    "data = [rec.acref, rec.dateobs, rec.instr, rec.pos, rec.title]\n",
    "data"
   ]
  },
  {
   "cell_type": "markdown",
   "metadata": {},
   "source": [
    "### SSAP"
   ]
  },
  {
   "cell_type": "code",
   "execution_count": null,
   "metadata": {},
   "outputs": [],
   "source": [
    "services = vo.regsearch(servicetype='ssa')\n",
    "ssa_table = services.to_table()['short_name','res_title','res_description','access_urls','reference_url']"
   ]
  },
  {
   "cell_type": "code",
   "execution_count": null,
   "metadata": {},
   "outputs": [],
   "source": [
    "ssa_table"
   ]
  },
  {
   "cell_type": "code",
   "execution_count": 3,
   "metadata": {},
   "outputs": [],
   "source": [
    "delta_ori = SkyCoord.from_name(\"Delta Ori\")"
   ]
  },
  {
   "cell_type": "code",
   "execution_count": 22,
   "metadata": {},
   "outputs": [],
   "source": [
    "ssa_service1 = vo.dal.SSAService(\"http://nova.fcaglp.unlp.edu.ar/fcaglp/q/ssa/ssap.xml?\")\n",
    "ssa_results1 = ssa_service1.search(pos=delta_ori, diameter=0.1)"
   ]
  },
  {
   "cell_type": "code",
   "execution_count": 21,
   "metadata": {},
   "outputs": [],
   "source": [
    "ssa_service = vo.dal.SSAService(\"https://heasarc.gsfc.nasa.gov/xamin/vo/ssa?table=chanmaster&\")\n",
    "ssa_results = ssa_service.search(pos=delta_ori, diameter=0.1)"
   ]
  },
  {
   "cell_type": "code",
   "execution_count": null,
   "metadata": {},
   "outputs": [],
   "source": [
    "print(ssa_results.to_table().columns)\n",
    "print(ssa_results1.to_table().columns)"
   ]
  },
  {
   "cell_type": "code",
   "execution_count": null,
   "metadata": {},
   "outputs": [],
   "source": [
    "ma_table = ssa_results.to_table()\n",
    "col_names = ma_table.colnames\n",
    "rows = ma_table.as_array()\n",
    "pairs = [dict(zip(col_names, row)) for row in rows]\n",
    "# ma_dict = {}\n",
    "# ma_dict = [dict(zip(col_names, row) for row in rows)]\n",
    "for p in pairs:\n",
    "  print(p)\n"
   ]
  },
  {
   "cell_type": "code",
   "execution_count": null,
   "metadata": {},
   "outputs": [],
   "source": [
    "from astropy.utils.data import download_file\n",
    "import astropy.io.fits as fits\n",
    "from astropy.table import Table\n",
    "\n",
    "file_name = download_file(ssa_results[0].getdataurl(),cache=True)\n",
    "hdu_list = fits.open(file_name)\n",
    "spec_table = Table(hdu_list[1].data)\n",
    "spec_table"
   ]
  },
  {
   "cell_type": "code",
   "execution_count": null,
   "metadata": {},
   "outputs": [],
   "source": [
    "import numpy as np\n",
    "\n",
    "import matplotlib\n",
    "import matplotlib.pyplot as plt\n",
    "%matplotlib inline  \n",
    "\n",
    "matplotlib.rcParams['figure.figsize'] = (12, 10)\n",
    "\n",
    "for i in range(len(spec_table)): \n",
    "    \n",
    "    ax = plt.subplot(6,2,i+1)\n",
    "    pha = plt.plot( spec_table['CHANNEL'][i],spec_table['COUNTS'][i])\n",
    "    ax.set_yscale('log')\n",
    "    \n",
    "    if spec_table['TG_PART'][i] == 1:\n",
    "        instr='HEG'\n",
    "    if spec_table['TG_PART'][i] == 2:\n",
    "        instr='MEG'\n",
    "    if spec_table['TG_PART'][i] == 3:\n",
    "        instr='LEG'\n",
    "        \n",
    "    ax.set_title(\"{grating}{order:+d}\".format(grating=instr, order=spec_table['TG_M'][i]))\n",
    "    \n",
    "    plt.tight_layout()"
   ]
  },
  {
   "cell_type": "markdown",
   "metadata": {},
   "source": [
    "### SCS \n",
    "(como un registry)"
   ]
  },
  {
   "cell_type": "code",
   "execution_count": 26,
   "metadata": {},
   "outputs": [],
   "source": [
    "pos = SkyCoord.from_name('Eta Carina')\n",
    "size = Quantity(0.5, unit=\"deg\")"
   ]
  },
  {
   "cell_type": "code",
   "execution_count": null,
   "metadata": {},
   "outputs": [],
   "source": [
    "scs_services = vo.regsearch(servicetype='conesearch')\n",
    "urls = scs_services.to_table()[\"access_urls\"]"
   ]
  },
  {
   "cell_type": "code",
   "execution_count": null,
   "metadata": {},
   "outputs": [],
   "source": [
    "for ref in urls:\n",
    "  try:\n",
    "    scs_srv = vo.dal.SCSService(ref)\n",
    "    scs_results = scs_srv.search(pos=pos, radius=size)\n",
    "    scs_table = scs_results.to_table()\n",
    "  except:\n",
    "    print(\"xd\")\n",
    "    continue\n",
    "  if len(scs_table) < 0:\n",
    "    print(scs_table.columns)\n",
    "  else:\n",
    "    print(\"no hay\")"
   ]
  },
  {
   "cell_type": "code",
   "execution_count": null,
   "metadata": {},
   "outputs": [],
   "source": [
    "scs_srv = vo.dal.SCSService('http://dc.zah.uni-heidelberg.de/arihip/q/cone/scs.xml')\n",
    "scs_results = scs_srv.search(pos=pos, radius=size)\n",
    "scs_results.to_table()"
   ]
  },
  {
   "cell_type": "code",
   "execution_count": null,
   "metadata": {},
   "outputs": [],
   "source": [
    "scs_srv.describe()"
   ]
  },
  {
   "cell_type": "markdown",
   "metadata": {},
   "source": [
    "### SLAP"
   ]
  },
  {
   "cell_type": "code",
   "execution_count": null,
   "metadata": {},
   "outputs": [],
   "source": [
    "resources = registry.search(servicetype='line')\n",
    "res_table_urls = resources.to_table()[\"access_urls\"]\n",
    "print(res_table_urls)"
   ]
  },
  {
   "cell_type": "code",
   "execution_count": null,
   "metadata": {},
   "outputs": [],
   "source": [
    "iron_bandwidth = [0.000515000, 0.000520000]\n",
    "cuant = Quantity([0.000515, 0.00052], unit=\"meter\")\n",
    "cuant"
   ]
  },
  {
   "cell_type": "code",
   "execution_count": null,
   "metadata": {},
   "outputs": [],
   "source": [
    "for url in res_table_urls:\n",
    "  try:\n",
    "    vo.dal.SLAService(url).describe()\n",
    "  except:\n",
    "    continue"
   ]
  },
  {
   "cell_type": "code",
   "execution_count": 19,
   "metadata": {},
   "outputs": [],
   "source": [
    "scs_srv = vo.dal.SLAService('http://physics.nist.gov/cgi-bin/ASD/slap.pl?')\n",
    "scs_results = scs_srv.search(wavelength = [0, 100])"
   ]
  },
  {
   "cell_type": "code",
   "execution_count": null,
   "metadata": {},
   "outputs": [],
   "source": [
    "scs_srv.describe()"
   ]
  },
  {
   "cell_type": "code",
   "execution_count": 20,
   "metadata": {},
   "outputs": [],
   "source": [
    "table = scs_results.to_table()"
   ]
  },
  {
   "cell_type": "code",
   "execution_count": null,
   "metadata": {},
   "outputs": [],
   "source": [
    "table.pprint_all()"
   ]
  },
  {
   "cell_type": "markdown",
   "metadata": {},
   "source": [
    "### TAP"
   ]
  },
  {
   "cell_type": "markdown",
   "metadata": {},
   "source": [
    "Este está más peluo.\n",
    "\n",
    "Probablemente deba hacer una función que llame a un llm que pueda construir una query con el input del usuario y luego ejecutarla.\n",
    "\n",
    "La herramienta que haga esto será ejecutada en vez del registry si es que ya se a que resource consultar."
   ]
  },
  {
   "cell_type": "code",
   "execution_count": 4,
   "metadata": {},
   "outputs": [
    {
     "data": {
      "text/plain": [
       "<pyvo.registry.rtcons.Temporal at 0x1f8043c94b0>"
      ]
     },
     "execution_count": 4,
     "metadata": {},
     "output_type": "execute_result"
    }
   ],
   "source": [
    "from astropy.time import Time\n",
    "from pyvo import registry\n",
    "\n",
    "t = Time('2022-01-10')\n",
    "trint = registry.Temporal(t)\n",
    "trint"
   ]
  },
  {
   "cell_type": "markdown",
   "metadata": {},
   "source": [
    "Otras weas"
   ]
  },
  {
   "cell_type": "code",
   "execution_count": null,
   "metadata": {},
   "outputs": [],
   "source": [
    "from langchain_core.prompts import ChatPromptTemplate\n",
    "\n",
    "system = \"\"\"You will be handed an input in the shape of a list of dictionaries. All these dictionaries\n",
    "have the same structure. You need to give a structured output in the form of a RegistryResource object with 2 keys: \n",
    "'text_answer': a human readable message that accompanies a data table.\n",
    "'data_table': a list of VoResource objects that share the structure of the dictionaries of teh list given to you in the first place.\n",
    "\n",
    "EXAMPLE INPUT:\n",
    "[{{'res_title':'resource_123','res_description':'A catalogue of stars taken from ALMA','content_level':'university#research','waveband':'UV','created':'2013-10-02T00:00:00','updated':'2019-10-24T00:00:00','access_urls':'http://some.dir.uni.edu/serv/name?'}},]\n",
    "\n",
    "EXAMPLE OUTPUT:\n",
    "RegistryResponse(\n",
    "  'text_answer': 'Here. I found (1) resource on your query. Tell me if you need anything else.', \n",
    "  'data_table':[\n",
    "    VoResource(\n",
    "      'res_title':'resource_123',\n",
    "      'res_description':'A catalogue of stars taken from ALMA',\n",
    "      'content_level':'university#research',\n",
    "      'waveband':'UV',\n",
    "      'created':'2013-10-02T00:00:00',\n",
    "      'updated':'2019-10-24T00:00:00',\n",
    "      'access_urls':'http://some.dir.uni.edu/serv/name?'\n",
    "    ),\n",
    "  ]\n",
    ")\n",
    "\"\"\"\n",
    "prompt = ChatPromptTemplate.from_messages(\n",
    "    [\n",
    "        (\"system\", system),\n",
    "        (\"human\", \"{data}\")\n",
    "    ]\n",
    ")\n",
    "value = prompt.invoke({\"data\":[{'res_title':'resource_123','res_description':'A catalogue of stars taken from ALMA','content_level':'university#research','waveband':'UV','created':'2013-10-02T00:00:00','updated':'2019-10-24T00:00:00','access_urls':'http://some.dir.uni.edu/serv/name?'}]})\n",
    "for v in value.to_messages(): v.pretty_print()"
   ]
  },
  {
   "cell_type": "code",
   "execution_count": 2,
   "metadata": {},
   "outputs": [
    {
     "data": {
      "text/plain": [
       "<Time object: scale='utc' format='iso' value=2022-01-10 00:00:00.000>"
      ]
     },
     "execution_count": 2,
     "metadata": {},
     "output_type": "execute_result"
    }
   ],
   "source": [
    "from astropy.time import Time\n",
    "Time('2022-01-10')"
   ]
  }
 ],
 "metadata": {
  "kernelspec": {
   "display_name": ".venv",
   "language": "python",
   "name": "python3"
  },
  "language_info": {
   "codemirror_mode": {
    "name": "ipython",
    "version": 3
   },
   "file_extension": ".py",
   "mimetype": "text/x-python",
   "name": "python",
   "nbconvert_exporter": "python",
   "pygments_lexer": "ipython3",
   "version": "3.10.5"
  }
 },
 "nbformat": 4,
 "nbformat_minor": 2
}
